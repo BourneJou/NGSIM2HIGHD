{
 "cells": [
  {
   "cell_type": "code",
   "execution_count": 1,
   "metadata": {},
   "outputs": [],
   "source": [
    "import os\n",
    "import pandas\n",
    "import numpy as np\n",
    "import HighD_Columns as HC \n",
    "import NGSIM_Columns as NC \n"
   ]
  },
  {
   "cell_type": "code",
   "execution_count": 2,
   "metadata": {},
   "outputs": [],
   "source": [
    "ngsim_dataset = \"./ngsim/Next_Generation_Simulation__NGSIM__Vehicle_Trajectories_and_Supporting_Data.csv\"\n",
    "\n",
    "df = pandas.read_csv(ngsim_dataset)"
   ]
  },
  {
   "cell_type": "code",
   "execution_count": 3,
   "metadata": {},
   "outputs": [],
   "source": [
    "ngsim = []\n",
    "locations = ['us-101', 'i-80']\n",
    "for location in locations:\n",
    "    ngsim.append(df[df[NC.LOCATION]==location])"
   ]
  },
  {
   "cell_type": "code",
   "execution_count": 5,
   "metadata": {},
   "outputs": [],
   "source": [
    "for i, location in enumerate(locations):\n",
    "    ngsim[i] = ngsim[i].drop(\n",
    "                    columns = [\n",
    "                        NC.O_ZONE, \n",
    "                        NC.D_ZONE, \n",
    "                        NC.INT_ID, \n",
    "                        NC.SECTION_ID, \n",
    "                        NC.DIRECTION, \n",
    "                        NC.MOVEMENT, \n",
    "                        NC.GLOBAL_X, \n",
    "                        NC.GLOBAL_Y, \n",
    "                        NC.GLOBAL_TIME,\n",
    "                        NC.LOCATION, \n",
    "                        NC.TOTAL_FRAME \n",
    "                        ])"
   ]
  },
  {
   "cell_type": "code",
   "execution_count": 4,
   "metadata": {},
   "outputs": [],
   "source": [
    "i = 0\n",
    "ngsim[i] = ngsim[i].sort_values([NC.ID, NC.FRAME], ascending=[1,1])\n",
    "            "
   ]
  },
  {
   "cell_type": "code",
   "execution_count": 7,
   "metadata": {},
   "outputs": [
    {
     "output_type": "execute_result",
     "data": {
      "text/plain": "         Vehicle_ID  Frame_ID  Local_X  Local_Y  v_length  v_Width  v_Class  \\\n2555981           1       137   52.660   73.916      15.0      6.4        2   \n7952522           1       138   52.648   76.416      15.0      6.4        2   \n7911821           1       139   52.635   78.915      15.0      6.4        2   \n7890998           1       140   52.622   81.416      15.0      6.4        2   \n7289640           1       141   52.609   83.916      15.0      6.4        2   \n\n         v_Vel  v_Acc  Lane_ID  Preceding  Following  Space_Headway  \\\n2555981   25.0    0.0        5          0          0            0.0   \n7952522   25.0    0.0        5          0          0            0.0   \n7911821   25.0    0.0        5          0          0            0.0   \n7890998   25.0    0.0        5          0          0            0.0   \n7289640   25.0    0.0        5          0          0            0.0   \n\n         Time_Headway  \n2555981           0.0  \n7952522           0.0  \n7911821           0.0  \n7890998           0.0  \n7289640           0.0  ",
      "text/html": "<div>\n<style scoped>\n    .dataframe tbody tr th:only-of-type {\n        vertical-align: middle;\n    }\n\n    .dataframe tbody tr th {\n        vertical-align: top;\n    }\n\n    .dataframe thead th {\n        text-align: right;\n    }\n</style>\n<table border=\"1\" class=\"dataframe\">\n  <thead>\n    <tr style=\"text-align: right;\">\n      <th></th>\n      <th>Vehicle_ID</th>\n      <th>Frame_ID</th>\n      <th>Local_X</th>\n      <th>Local_Y</th>\n      <th>v_length</th>\n      <th>v_Width</th>\n      <th>v_Class</th>\n      <th>v_Vel</th>\n      <th>v_Acc</th>\n      <th>Lane_ID</th>\n      <th>Preceding</th>\n      <th>Following</th>\n      <th>Space_Headway</th>\n      <th>Time_Headway</th>\n    </tr>\n  </thead>\n  <tbody>\n    <tr>\n      <td>2555981</td>\n      <td>1</td>\n      <td>137</td>\n      <td>52.660</td>\n      <td>73.916</td>\n      <td>15.0</td>\n      <td>6.4</td>\n      <td>2</td>\n      <td>25.0</td>\n      <td>0.0</td>\n      <td>5</td>\n      <td>0</td>\n      <td>0</td>\n      <td>0.0</td>\n      <td>0.0</td>\n    </tr>\n    <tr>\n      <td>7952522</td>\n      <td>1</td>\n      <td>138</td>\n      <td>52.648</td>\n      <td>76.416</td>\n      <td>15.0</td>\n      <td>6.4</td>\n      <td>2</td>\n      <td>25.0</td>\n      <td>0.0</td>\n      <td>5</td>\n      <td>0</td>\n      <td>0</td>\n      <td>0.0</td>\n      <td>0.0</td>\n    </tr>\n    <tr>\n      <td>7911821</td>\n      <td>1</td>\n      <td>139</td>\n      <td>52.635</td>\n      <td>78.915</td>\n      <td>15.0</td>\n      <td>6.4</td>\n      <td>2</td>\n      <td>25.0</td>\n      <td>0.0</td>\n      <td>5</td>\n      <td>0</td>\n      <td>0</td>\n      <td>0.0</td>\n      <td>0.0</td>\n    </tr>\n    <tr>\n      <td>7890998</td>\n      <td>1</td>\n      <td>140</td>\n      <td>52.622</td>\n      <td>81.416</td>\n      <td>15.0</td>\n      <td>6.4</td>\n      <td>2</td>\n      <td>25.0</td>\n      <td>0.0</td>\n      <td>5</td>\n      <td>0</td>\n      <td>0</td>\n      <td>0.0</td>\n      <td>0.0</td>\n    </tr>\n    <tr>\n      <td>7289640</td>\n      <td>1</td>\n      <td>141</td>\n      <td>52.609</td>\n      <td>83.916</td>\n      <td>15.0</td>\n      <td>6.4</td>\n      <td>2</td>\n      <td>25.0</td>\n      <td>0.0</td>\n      <td>5</td>\n      <td>0</td>\n      <td>0</td>\n      <td>0.0</td>\n      <td>0.0</td>\n    </tr>\n  </tbody>\n</table>\n</div>"
     },
     "metadata": {},
     "execution_count": 7
    }
   ],
   "source": [
    "ngsim[i].head()"
   ]
  },
  {
   "cell_type": "code",
   "execution_count": 8,
   "metadata": {},
   "outputs": [
    {
     "output_type": "stream",
     "name": "stdout",
     "text": "4802933\n704000\n4098933\n"
    }
   ],
   "source": [
    "print(len(ngsim[i].index))\n",
    "print(ngsim[i].duplicated().sum())\n",
    "# Drop Duplicate rows\n",
    "ngsim[i] = ngsim[i].drop_duplicates()\n",
    "print(len(ngsim[i].index))\n"
   ]
  },
  {
   "cell_type": "code",
   "execution_count": 9,
   "metadata": {},
   "outputs": [
    {
     "output_type": "execute_result",
     "data": {
      "text/plain": "Vehicle_ID       0\nFrame_ID         0\nLocal_X          0\nLocal_Y          0\nv_length         0\nv_Width          0\nv_Class          0\nv_Vel            0\nv_Acc            0\nLane_ID          0\nPreceding        0\nFollowing        0\nSpace_Headway    0\nTime_Headway     0\ndtype: int64"
     },
     "metadata": {},
     "execution_count": 9
    }
   ],
   "source": [
    "ngsim[i].isnull().sum()"
   ]
  },
  {
   "cell_type": "code",
   "execution_count": 10,
   "metadata": {},
   "outputs": [
    {
     "output_type": "execute_result",
     "data": {
      "text/plain": "         Vehicle_ID  Frame_ID  Local_X  Local_Y  v_length  v_Width  v_Class  \\\n2555981           1       137   52.660   73.916      15.0      6.4        2   \n7952522           1       138   52.648   76.416      15.0      6.4        2   \n7911821           1       139   52.635   78.915      15.0      6.4        2   \n7890998           1       140   52.622   81.416      15.0      6.4        2   \n7289640           1       141   52.609   83.916      15.0      6.4        2   \n...             ...       ...      ...      ...       ...      ...      ...   \n3384611           1       232   55.399  312.637      15.0      6.4        2   \n7811144           1       233   55.443  315.234      15.0      6.4        2   \n5657152           1       234   55.487  317.841      15.0      6.4        2   \n5463165           1       235   55.560  320.440      15.0      6.4        2   \n8474052           1       236   55.575  322.996      15.0      6.4        2   \n\n         v_Vel  v_Acc  Lane_ID  Preceding  Following  Space_Headway  \\\n2555981  25.00   0.00        5          0          0            0.0   \n7952522  25.00   0.00        5          0          0            0.0   \n7911821  25.00   0.00        5          0          0            0.0   \n7890998  25.00   0.00        5          0          0            0.0   \n7289640  25.00   0.00        5          0          0            0.0   \n...        ...    ...      ...        ...        ...            ...   \n3384611  25.96   0.19        5          0          5            0.0   \n7811144  25.97   0.18        5          0          5            0.0   \n5657152  25.90  -1.17        5          0          5            0.0   \n5463165  25.66  -3.54        5          0          5            0.0   \n8474052  25.28  -4.59        5          0          5            0.0   \n\n         Time_Headway  \n2555981           0.0  \n7952522           0.0  \n7911821           0.0  \n7890998           0.0  \n7289640           0.0  \n...               ...  \n3384611           0.0  \n7811144           0.0  \n5657152           0.0  \n5463165           0.0  \n8474052           0.0  \n\n[100 rows x 14 columns]",
      "text/html": "<div>\n<style scoped>\n    .dataframe tbody tr th:only-of-type {\n        vertical-align: middle;\n    }\n\n    .dataframe tbody tr th {\n        vertical-align: top;\n    }\n\n    .dataframe thead th {\n        text-align: right;\n    }\n</style>\n<table border=\"1\" class=\"dataframe\">\n  <thead>\n    <tr style=\"text-align: right;\">\n      <th></th>\n      <th>Vehicle_ID</th>\n      <th>Frame_ID</th>\n      <th>Local_X</th>\n      <th>Local_Y</th>\n      <th>v_length</th>\n      <th>v_Width</th>\n      <th>v_Class</th>\n      <th>v_Vel</th>\n      <th>v_Acc</th>\n      <th>Lane_ID</th>\n      <th>Preceding</th>\n      <th>Following</th>\n      <th>Space_Headway</th>\n      <th>Time_Headway</th>\n    </tr>\n  </thead>\n  <tbody>\n    <tr>\n      <td>2555981</td>\n      <td>1</td>\n      <td>137</td>\n      <td>52.660</td>\n      <td>73.916</td>\n      <td>15.0</td>\n      <td>6.4</td>\n      <td>2</td>\n      <td>25.00</td>\n      <td>0.00</td>\n      <td>5</td>\n      <td>0</td>\n      <td>0</td>\n      <td>0.0</td>\n      <td>0.0</td>\n    </tr>\n    <tr>\n      <td>7952522</td>\n      <td>1</td>\n      <td>138</td>\n      <td>52.648</td>\n      <td>76.416</td>\n      <td>15.0</td>\n      <td>6.4</td>\n      <td>2</td>\n      <td>25.00</td>\n      <td>0.00</td>\n      <td>5</td>\n      <td>0</td>\n      <td>0</td>\n      <td>0.0</td>\n      <td>0.0</td>\n    </tr>\n    <tr>\n      <td>7911821</td>\n      <td>1</td>\n      <td>139</td>\n      <td>52.635</td>\n      <td>78.915</td>\n      <td>15.0</td>\n      <td>6.4</td>\n      <td>2</td>\n      <td>25.00</td>\n      <td>0.00</td>\n      <td>5</td>\n      <td>0</td>\n      <td>0</td>\n      <td>0.0</td>\n      <td>0.0</td>\n    </tr>\n    <tr>\n      <td>7890998</td>\n      <td>1</td>\n      <td>140</td>\n      <td>52.622</td>\n      <td>81.416</td>\n      <td>15.0</td>\n      <td>6.4</td>\n      <td>2</td>\n      <td>25.00</td>\n      <td>0.00</td>\n      <td>5</td>\n      <td>0</td>\n      <td>0</td>\n      <td>0.0</td>\n      <td>0.0</td>\n    </tr>\n    <tr>\n      <td>7289640</td>\n      <td>1</td>\n      <td>141</td>\n      <td>52.609</td>\n      <td>83.916</td>\n      <td>15.0</td>\n      <td>6.4</td>\n      <td>2</td>\n      <td>25.00</td>\n      <td>0.00</td>\n      <td>5</td>\n      <td>0</td>\n      <td>0</td>\n      <td>0.0</td>\n      <td>0.0</td>\n    </tr>\n    <tr>\n      <td>...</td>\n      <td>...</td>\n      <td>...</td>\n      <td>...</td>\n      <td>...</td>\n      <td>...</td>\n      <td>...</td>\n      <td>...</td>\n      <td>...</td>\n      <td>...</td>\n      <td>...</td>\n      <td>...</td>\n      <td>...</td>\n      <td>...</td>\n      <td>...</td>\n    </tr>\n    <tr>\n      <td>3384611</td>\n      <td>1</td>\n      <td>232</td>\n      <td>55.399</td>\n      <td>312.637</td>\n      <td>15.0</td>\n      <td>6.4</td>\n      <td>2</td>\n      <td>25.96</td>\n      <td>0.19</td>\n      <td>5</td>\n      <td>0</td>\n      <td>5</td>\n      <td>0.0</td>\n      <td>0.0</td>\n    </tr>\n    <tr>\n      <td>7811144</td>\n      <td>1</td>\n      <td>233</td>\n      <td>55.443</td>\n      <td>315.234</td>\n      <td>15.0</td>\n      <td>6.4</td>\n      <td>2</td>\n      <td>25.97</td>\n      <td>0.18</td>\n      <td>5</td>\n      <td>0</td>\n      <td>5</td>\n      <td>0.0</td>\n      <td>0.0</td>\n    </tr>\n    <tr>\n      <td>5657152</td>\n      <td>1</td>\n      <td>234</td>\n      <td>55.487</td>\n      <td>317.841</td>\n      <td>15.0</td>\n      <td>6.4</td>\n      <td>2</td>\n      <td>25.90</td>\n      <td>-1.17</td>\n      <td>5</td>\n      <td>0</td>\n      <td>5</td>\n      <td>0.0</td>\n      <td>0.0</td>\n    </tr>\n    <tr>\n      <td>5463165</td>\n      <td>1</td>\n      <td>235</td>\n      <td>55.560</td>\n      <td>320.440</td>\n      <td>15.0</td>\n      <td>6.4</td>\n      <td>2</td>\n      <td>25.66</td>\n      <td>-3.54</td>\n      <td>5</td>\n      <td>0</td>\n      <td>5</td>\n      <td>0.0</td>\n      <td>0.0</td>\n    </tr>\n    <tr>\n      <td>8474052</td>\n      <td>1</td>\n      <td>236</td>\n      <td>55.575</td>\n      <td>322.996</td>\n      <td>15.0</td>\n      <td>6.4</td>\n      <td>2</td>\n      <td>25.28</td>\n      <td>-4.59</td>\n      <td>5</td>\n      <td>0</td>\n      <td>5</td>\n      <td>0.0</td>\n      <td>0.0</td>\n    </tr>\n  </tbody>\n</table>\n<p>100 rows × 14 columns</p>\n</div>"
     },
     "metadata": {},
     "execution_count": 10
    }
   ],
   "source": [
    "ngsim[i].head(100)"
   ]
  },
  {
   "cell_type": "code",
   "execution_count": 34,
   "metadata": {
    "tags": [
     "outputPrepend",
     "outputPrepend",
     "outputPrepend",
     "outputPrepend",
     "outputPrepend",
     "outputPrepend",
     "outputPrepend",
     "outputPrepend",
     "outputPrepend",
     "outputPrepend",
     "outputPrepend",
     "outputPrepend",
     "outputPrepend",
     "outputPrepend",
     "outputPrepend",
     "outputPrepend",
     "outputPrepend",
     "outputPrepend",
     "outputPrepend",
     "outputPrepend",
     "outputPrepend",
     "outputPrepend",
     "outputPrepend",
     "outputPrepend",
     "outputPrepend",
     "outputPrepend",
     "outputPrepend",
     "outputPrepend",
     "outputPrepend",
     "outputPrepend",
     "outputPrepend",
     "outputPrepend",
     "outputPrepend",
     "outputPrepend",
     "outputPrepend",
     "outputPrepend",
     "outputPrepend",
     "outputPrepend",
     "outputPrepend",
     "outputPrepend",
     "outputPrepend",
     "outputPrepend",
     "outputPrepend",
     "outputPrepend"
    ]
   },
   "outputs": [
    {
     "output_type": "stream",
     "name": "stdout",
     "text": "[137 138 139 140 141 142 143 144 145 146 147 148 149 150 151 152 153 154\n 155 156 157 158 159 160 161 162 163 164 165 166 167 168 169 170 171 172\n 173 174 175 176 177 178 179 180 181 182 183 184 185 186 187 188 189 190\n 191 192 193 194 195 196 197 198 199 200 201 202 203 204 205 206 207 208\n 209 210 211 212 213 214 215 216 217 218 219 220 221 222 223 224 225 226\n 227 228 229 230 231 232 233 234 235 236 237 238 239 240 241 242 243 244\n 245 246 247 248 249 250 251 252 253 254 255 256 257 258 259 260 261 262\n 263 264 265 266 267 268 269 270 271 272 273 274 275 276 277 278 279 280\n 281 282 283 284 285 286 287 288 289 290 291 292 293 294 295 296 297 298\n 299 300 301 302 303 304 305 306 307 308 309 310 311 312 313 314 315 316\n 317 318 319 320 321 322 323 324 325 326 327 328 329 330 331 332 333 334\n 335 336 337 338 339 340 341 342 343 344 345 346 347 348 349 350 351 352\n 353 354 355 356 357 358 359 360 361 362 363 364 365 366 367 368 369 370\n 371 372 373 374 375 376 377 378 379 380 381 382 383 384 385 386 387 388\n 389 390 391 392 393 394 395 396 397 398 399 400 401 402 403 404 405 406\n 407 408 409 410 411 412 413 414 415 416 417 418 419 420 421 422 423 424\n 425 426 427 428 429 430 431 432 433 434 435 436 437 438 439 440 441 442\n 443 444 445 446 447 448 449 450 451 452 453 454 455 456 457 458 459 460\n 461 462 463 464 465 466 467 468 469 470 471 472 473 474 475 476 477 478\n 479 480 481 482 483 484 485 486 487 488 489 490 491 492 493 494 495 496\n 497 498 499 500 501 502 503 504 505 506 507 508 509 510 511 512 513 514\n 515 516 517 518 519 520 521 522 523 524 525 526 527 528 529 530 531 532\n 533 534 535 536 537 538 539 540 541 542 543 544 545 546 547 548 549 550\n 551 552 553 554 555 556 557 558 559 560 561 562 563 564 565 566 567 568\n 569 570 571 572 573 574 575 576 577 578 579 580 581 582 583 584 585 586\n 587 588 589 590 591 592 593 594 595 596 597 598 599 600 601 602 603 604\n 605 606 607 608 609 610 611 612 613 614 615 616 617 618 619 620 621 622\n 623 624 625 626 627 628 629 630 631 632 633 634 635 636 637 638 639 640\n 641 642 643 644 645 646 647 648 649 650 651 652 653 654 655 656 657 658\n 659 660 661 662 663 664 665 666 667 668 669 670 671 672 673 674 675 676\n 677 678 679 680 681 682 683 684 685 686 687 688 689 690 691 692 693 694\n 695 696 697 698 699 700 701 702 703 704 705 706 707 708 709 710 711 712\n 713 714 715 716 717 718 719 720 721 722 723 724 725 726 727 728 729 730\n 731 732 733 734 735 736 737 738 739 740 741 742 743 744 745 746 747 748\n 749 750 751 752 753 754 755 756 757 758 759 760 761 762 763 764 765 766\n 767 768 769 770 771 772 773 774 775 776 777 778 779 780 781 782 783 784\n 785 786 787 788 789 790 791 792 793 794 795 796 797 798 799 800 801 802\n 803 804 805 806 807 808 809 810 811 812 813 814 815 816 817 818 819 820\n 821 822 823 824 825 826 827 828 829 830 831 832 833 834 835 836 837 838]\n[137 138 139 140 141 142 143 144 145 146 147 148 149 150 151 152 153 154\n 155 156 157 158 159 160 161 162 163 164 165 166 167 168 169 170 171 172\n 173 174 175 176 177 178 179 180 181 182 183 184 185 186 187 188 189 190\n 191 192 193 194 195 196 197 198 199 200 201 202 203 204 205 206 207 208\n 209 210 211 212 213 214 215 216 217 218 219 220 221 222 223 224 225 226\n 227 228 229 230 231 232 233 234 235 236 237 238 239 240 241 242 243 244\n 245 246 247 248 249 250 251 252 253 254 255 256 257 258 259 260 261 262\n 263 264 265 266 267 268 269 270 270 271 271 272 272 273 273 274 274 275\n 275 276 276 277 277 278 278 279 279 280 280 281 281 282 282 283 283 284\n 284 285 285 286 286 287 287 288 288 289 289 290 290 291 291 292 292 293\n 293 294 294 295 295 296 296 297 297 298 298 299 299 300 300 301 301 302\n 302 303 303 304 304 305 305 306 306 307 307 308 308 309 309 310 310 311\n 311 312 312 313 313 314 314 315 315 316 316 317 317 318 318 319 319 320\n 320 321 321 322 322 323 323 324 324 325 325 326 326 327 327 328 328 329\n 329 330 330 331 331 332 332 333 333 334 334 335 335 336 336 337 337 338\n 338 339 339 340 340 341 341 342 342 343 343 344 344 345 345 346 346 347\n 347 348 348 349 349 350 350 351 351 352 352 353 353 354 354 355 355 356\n 356 357 357 358 358 359 359 360 360 361 361 362 362 363 363 364 364 365\n 365 366 366 367 367 368 368 369 369 370 370 371 371 372 372 373 373 374\n 374 375 375 376 376 377 377 378 378 379 379 380 380 381 381 382 382 383\n 383 384 384 385 385 386 386 387 387 388 388 389 389 390 390 391 391 392\n 392 393 393 394 394 395 395 396 396 397 397 398 398 399 399 400 400 401\n 401 402 402 403 403 404 404 405 405 406 406 407 407 408 408 409 409 410\n 410 411 411 412 412 413 413 414 414 415 415 416 416 417 417 418 418 419\n 419 420 420 421 421 422 422 423 423 424 424 425 425 426 426 427 427 428\n 428 429 429 430 430 431 431 432 432 433 433 434 434 435 435 436 436 437\n 437 438 438 439 439 440 440 441 441 442 442 443 443 444 444 445 445 446\n 446 447 447 448 448 449 449 450 450 451 451 452 452 453 453 454 454 455\n 455 456 456 457 457 458 458 459 459 460 460 461 461 462 462 463 463 464\n 464 465 465 466 466 467 467 468 468 469 469 470 470 471 471 472 472 473\n 473 474 474 475 475 476 476 477 477 478 478 479 479 480 480 481 481 482\n 482 483 483 484 484 485 485 486 486 487 487 488 488 489 489 490 490 491\n 491 492 492 493 493 494 494 495 495 496 496 497 497 498 498 499 499 500\n 500 501 501 502 502 503 503 504 504 505 505 506 506 507 507 508 508 509\n 509 510 510 511 511 512 512 513 513 514 514 515 515 516 516 517 517 518\n 518 519 519 520 520 521 521 522 522 523 523 524 524 525 525 526 526 527\n 527 528 528 529 529 530 530 531 531 532 532 533 533 534 534 535 535 536\n 536 537 537 538 538 539 539 540 540 541 541 542 542 543 543 544 544 545\n 545 546 546 547 547 548 548 549 549 550 550 551 551 552 552 553 553 554\n 554 555 555 556 556 557 557 558 559 560 561 562 563 564 565 566 567 568\n 569 570 571 572 573 574 575 576 577 578 579 580 581 582 583 584 585 586\n 587 588 589 590 591 592 593 594 595 596 597 598 599 600 601 602 603 604\n 605 606 607 608 609 610 611 612 613 614 615 616 617 618 619 620 621 622\n 623 624 625 626 627 628 629 630 631 632 633 634 635 636 637 638 639 640\n 641 642 643 644 645 646 647 648 649 650 651 652 653 654 655 656 657 658\n 659 660 661 662 663 664 665 666 667 668 669 670 671 672 673 674 675 676\n 677 678 679 680 681 682 683 684 685 686 687 688 689 690 691 692 693 694\n 695 696 697 698 699 700 701 702 703 704 705 706 707 708 709 710 711 712\n 713 714 715 716 717 718 719 720 721 722 723 724 725 726 727 728 729 730\n 731 732 733 734 735 736 737 738 739 740 741 742 743 744 745 746 747 748\n 749 750 751 752 753 754 755 756 757 758 759 760 761 762 763 764 765 766\n 767 768 769 770 771 772 773 774 775 776 777 778 779 780 781 782 783 784\n 785 786 787 788 789 790 791 792 793 794 795 796 797 798 799 800 801 802\n 803 804 805 806 807 808 809 810 811 812 813 814 815 816 817 818 819 820\n 821 822 823 824 825 826 827 828 829 830 831 832 833 834 835 836 837 838]\nFalse\n"
    }
   ],
   "source": [
    "\n",
    "for veh_id in list(set(ngsim[i][NC.ID])):\n",
    "    veh_frame_data = ngsim[i][ngsim[i][NC.ID] == veh_id][NC.FRAME]\n",
    "    start_frame = veh_frame_data.iloc[0]\n",
    "    end_frame = veh_frame_data.iloc[-1]\n",
    "    veh_frame_data = veh_frame_data.to_numpy()\n",
    "    frame_list = np.arange(start_frame, end_frame+1)\n",
    "    #print(isinstance(frame_list, pandas.Series))\n",
    "    print((frame_list))\n",
    "    print((veh_frame_data))\n",
    "    print(np.array_equal(veh_frame_data,frame_list))\n",
    "    break\n"
   ]
  },
  {
   "cell_type": "code",
   "execution_count": 5,
   "metadata": {},
   "outputs": [
    {
     "output_type": "stream",
     "name": "stdout",
     "text": "1\n         Vehicle_ID  Frame_ID  Total_Frames    Global_Time  Local_X  Local_Y  \\\n2555981           1       137           421  1118848770700   52.660   73.916   \n7952522           1       138           421  1118848770800   52.648   76.416   \n7911821           1       139           421  1118848770900   52.635   78.915   \n7890998           1       140           421  1118848771000   52.622   81.416   \n7289640           1       141           421  1118848771100   52.609   83.916   \n\n            Global_X     Global_Y  v_length  v_Width  ...  D_Zone  Int_ID  \\\n2555981  6451113.236  1873317.970      15.0      6.4  ...     NaN     NaN   \n7952522  6451114.916  1873316.119      15.0      6.4  ...     NaN     NaN   \n7911821  6451116.596  1873314.268      15.0      6.4  ...     NaN     NaN   \n7890998  6451118.277  1873312.417      15.0      6.4  ...     NaN     NaN   \n7289640  6451119.957  1873310.566      15.0      6.4  ...     NaN     NaN   \n\n         Section_ID  Direction  Movement  Preceding  Following  Space_Headway  \\\n2555981         NaN        NaN       NaN          0          0            0.0   \n7952522         NaN        NaN       NaN          0          0            0.0   \n7911821         NaN        NaN       NaN          0          0            0.0   \n7890998         NaN        NaN       NaN          0          0            0.0   \n7289640         NaN        NaN       NaN          0          0            0.0   \n\n         Time_Headway  Location  \n2555981           0.0    us-101  \n7952522           0.0    us-101  \n7911821           0.0    us-101  \n7890998           0.0    us-101  \n7289640           0.0    us-101  \n\n[5 rows x 25 columns]\n         Vehicle_ID  Frame_ID  Total_Frames    Global_Time  Local_X  Local_Y  \\\n768484            1       270           569  1118847869000   51.164  112.878   \n3000262           1       270           421  1118848784000   55.460  410.863   \n\n            Global_X     Global_Y  v_length  v_Width  ...  D_Zone  Int_ID  \\\n768484   6451136.708  1873294.084      47.0      8.5  ...     NaN     NaN   \n3000262  6451350.134  1873071.425      15.0      6.4  ...     NaN     NaN   \n\n         Section_ID  Direction  Movement  Preceding  Following  Space_Headway  \\\n768484          NaN        NaN       NaN          0          0            0.0   \n3000262         NaN        NaN       NaN          0          5            0.0   \n\n         Time_Headway  Location  \n768484            0.0    us-101  \n3000262           0.0    us-101  \n\n[2 rows x 25 columns]\n"
    }
   ],
   "source": [
    "for veh_id in list(set(ngsim[i][NC.ID])):\n",
    "    print(veh_id)\n",
    "    print(ngsim[i].head())\n",
    "    veh_frame_data = ngsim[i][ngsim[i][NC.ID] == veh_id]\n",
    "    print(veh_frame_data[veh_frame_data[NC.FRAME] == 270])\n",
    "    break"
   ]
  },
  {
   "cell_type": "markdown",
   "metadata": {},
   "source": [
    "The above lines of codes show that there are two different vehicles in the dataset with the same vehicle ids! This makes the preprocessing of the dataset very difficult. Therefore, we cease working on this dataset at least for now."
   ]
  },
  {
   "cell_type": "code",
   "execution_count": null,
   "metadata": {},
   "outputs": [],
   "source": []
  }
 ],
 "metadata": {
  "language_info": {
   "codemirror_mode": {
    "name": "ipython",
    "version": 3
   },
   "file_extension": ".py",
   "mimetype": "text/x-python",
   "name": "python",
   "nbconvert_exporter": "python",
   "pygments_lexer": "ipython3",
   "version": "3.6.8-final"
  },
  "orig_nbformat": 2,
  "kernelspec": {
   "name": "python36864bitpytorchcondad27fd29b7fac464a8c64052c1fe46be1",
   "display_name": "Python 3.6.8 64-bit ('PyTorch': conda)"
  }
 },
 "nbformat": 4,
 "nbformat_minor": 2
}